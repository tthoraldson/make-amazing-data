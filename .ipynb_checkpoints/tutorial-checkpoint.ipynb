{
 "cells": [
  {
   "cell_type": "code",
   "execution_count": 2,
   "metadata": {
    "collapsed": true
   },
   "outputs": [],
   "source": [
    "# import libraries\n",
    "import pandas as pd"
   ]
  },
  {
   "cell_type": "code",
   "execution_count": 3,
   "metadata": {},
   "outputs": [],
   "source": [
    "# read the annotations file\n",
    "newdata = pd.read_csv('Outpatient-Imaging Efficiency-Hospital.csv', sep='\\t')"
   ]
  },
  {
   "cell_type": "code",
   "execution_count": 4,
   "metadata": {},
   "outputs": [
    {
     "data": {
      "text/html": [
       "<div>\n",
       "<style>\n",
       "    .dataframe thead tr:only-child th {\n",
       "        text-align: right;\n",
       "    }\n",
       "\n",
       "    .dataframe thead th {\n",
       "        text-align: left;\n",
       "    }\n",
       "\n",
       "    .dataframe tbody tr th {\n",
       "        vertical-align: top;\n",
       "    }\n",
       "</style>\n",
       "<table border=\"1\" class=\"dataframe\">\n",
       "  <thead>\n",
       "    <tr style=\"text-align: right;\">\n",
       "      <th></th>\n",
       "      <th>Provider ID,\"Hospital Name\",\"Address\",\"City\",\"State\",\"ZIP Code\",\"County Name\",\"Phone Number\",\"Measure ID\",\"Measure Name\",\"Score\",\"Footnote\",\"Measure Start Date\",\"Measure End Date\"</th>\n",
       "    </tr>\n",
       "  </thead>\n",
       "  <tbody>\n",
       "    <tr>\n",
       "      <th>0</th>\n",
       "      <td>010001,\"SOUTHEAST ALABAMA MEDICAL CENTER\",\"110...</td>\n",
       "    </tr>\n",
       "    <tr>\n",
       "      <th>1</th>\n",
       "      <td>010001,\"SOUTHEAST ALABAMA MEDICAL CENTER\",\"110...</td>\n",
       "    </tr>\n",
       "    <tr>\n",
       "      <th>2</th>\n",
       "      <td>010001,\"SOUTHEAST ALABAMA MEDICAL CENTER\",\"110...</td>\n",
       "    </tr>\n",
       "    <tr>\n",
       "      <th>3</th>\n",
       "      <td>010001,\"SOUTHEAST ALABAMA MEDICAL CENTER\",\"110...</td>\n",
       "    </tr>\n",
       "    <tr>\n",
       "      <th>4</th>\n",
       "      <td>010001,\"SOUTHEAST ALABAMA MEDICAL CENTER\",\"110...</td>\n",
       "    </tr>\n",
       "  </tbody>\n",
       "</table>\n",
       "</div>"
      ],
      "text/plain": [
       "  Provider ID,\"Hospital Name\",\"Address\",\"City\",\"State\",\"ZIP Code\",\"County Name\",\"Phone Number\",\"Measure ID\",\"Measure Name\",\"Score\",\"Footnote\",\"Measure Start Date\",\"Measure End Date\"\n",
       "0  010001,\"SOUTHEAST ALABAMA MEDICAL CENTER\",\"110...                                                                                                                                 \n",
       "1  010001,\"SOUTHEAST ALABAMA MEDICAL CENTER\",\"110...                                                                                                                                 \n",
       "2  010001,\"SOUTHEAST ALABAMA MEDICAL CENTER\",\"110...                                                                                                                                 \n",
       "3  010001,\"SOUTHEAST ALABAMA MEDICAL CENTER\",\"110...                                                                                                                                 \n",
       "4  010001,\"SOUTHEAST ALABAMA MEDICAL CENTER\",\"110...                                                                                                                                 "
      ]
     },
     "execution_count": 4,
     "metadata": {},
     "output_type": "execute_result"
    }
   ],
   "source": [
    "# display the top 5 rows\n",
    "newdata.head(5)"
   ]
  },
  {
   "cell_type": "code",
   "execution_count": 5,
   "metadata": {},
   "outputs": [
    {
     "name": "stdout",
     "output_type": "stream",
     "text": [
      "<class 'pandas.core.frame.DataFrame'>\n",
      "RangeIndex: 28830 entries, 0 to 28829\n",
      "Data columns (total 1 columns):\n",
      "Provider ID,\"Hospital Name\",\"Address\",\"City\",\"State\",\"ZIP Code\",\"County Name\",\"Phone Number\",\"Measure ID\",\"Measure Name\",\"Score\",\"Footnote\",\"Measure Start Date\",\"Measure End Date\"    28830 non-null object\n",
      "dtypes: object(1)\n",
      "memory usage: 225.3+ KB\n"
     ]
    }
   ],
   "source": [
    "# display basic info on given data\n",
    "newdata.info()"
   ]
  },
  {
   "cell_type": "code",
   "execution_count": null,
   "metadata": {
    "collapsed": true
   },
   "outputs": [],
   "source": []
  }
 ],
 "metadata": {
  "kernelspec": {
   "display_name": "Python 3",
   "language": "python",
   "name": "python3"
  },
  "language_info": {
   "codemirror_mode": {
    "name": "ipython",
    "version": 3
   },
   "file_extension": ".py",
   "mimetype": "text/x-python",
   "name": "python",
   "nbconvert_exporter": "python",
   "pygments_lexer": "ipython3",
   "version": "3.6.1"
  }
 },
 "nbformat": 4,
 "nbformat_minor": 2
}
